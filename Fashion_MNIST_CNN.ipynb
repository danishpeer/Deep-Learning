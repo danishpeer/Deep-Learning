{
 "cells": [
  {
   "cell_type": "code",
   "execution_count": 1,
   "id": "f6b591f5",
   "metadata": {},
   "outputs": [],
   "source": [
    "import tensorflow as tf"
   ]
  },
  {
   "cell_type": "code",
   "execution_count": 2,
   "id": "ca1554f0",
   "metadata": {},
   "outputs": [],
   "source": [
    "mnist = tf.keras.datasets.fashion_mnist"
   ]
  },
  {
   "cell_type": "code",
   "execution_count": 3,
   "id": "9231f1b6",
   "metadata": {},
   "outputs": [
    {
     "name": "stdout",
     "output_type": "stream",
     "text": [
      "Downloading data from https://storage.googleapis.com/tensorflow/tf-keras-datasets/train-labels-idx1-ubyte.gz\n",
      "32768/29515 [=================================] - 0s 4us/step\n",
      "Downloading data from https://storage.googleapis.com/tensorflow/tf-keras-datasets/train-images-idx3-ubyte.gz\n",
      "26427392/26421880 [==============================] - 3s 0us/step\n",
      "Downloading data from https://storage.googleapis.com/tensorflow/tf-keras-datasets/t10k-labels-idx1-ubyte.gz\n",
      "8192/5148 [===============================================] - 0s 1us/step\n",
      "Downloading data from https://storage.googleapis.com/tensorflow/tf-keras-datasets/t10k-images-idx3-ubyte.gz\n",
      "4423680/4422102 [==============================] - 1s 0us/step\n"
     ]
    }
   ],
   "source": [
    "((XT,YT),(Xt,Yt)) = mnist.load_data()"
   ]
  },
  {
   "cell_type": "code",
   "execution_count": 4,
   "id": "e14a3df3",
   "metadata": {},
   "outputs": [
    {
     "name": "stdout",
     "output_type": "stream",
     "text": [
      "(60000, 28, 28) (60000,) (10000, 28, 28) (10000,)\n"
     ]
    }
   ],
   "source": [
    "print(XT.shape,YT.shape,Xt.shape,Yt.shape)"
   ]
  },
  {
   "cell_type": "code",
   "execution_count": 6,
   "id": "124145cc",
   "metadata": {},
   "outputs": [],
   "source": [
    "YT = tf.keras.utils.to_categorical(YT)\n",
    "Yt = tf.keras.utils.to_categorical(Yt)"
   ]
  },
  {
   "cell_type": "code",
   "execution_count": 7,
   "id": "fc42f629",
   "metadata": {},
   "outputs": [
    {
     "data": {
      "text/plain": [
       "((60000, 10), (10000, 10))"
      ]
     },
     "execution_count": 7,
     "metadata": {},
     "output_type": "execute_result"
    }
   ],
   "source": [
    "YT.shape, Yt.shape"
   ]
  },
  {
   "cell_type": "code",
   "execution_count": 12,
   "id": "6983c29e",
   "metadata": {},
   "outputs": [],
   "source": [
    "XT = XT.reshape(-1,28,28,1)\n",
    "Xt = Xt.reshape(-1,28,28,1)"
   ]
  },
  {
   "cell_type": "code",
   "execution_count": 13,
   "id": "dd6101e7",
   "metadata": {},
   "outputs": [
    {
     "data": {
      "text/plain": [
       "((60000, 28, 28, 1), (10000, 28, 28, 1))"
      ]
     },
     "execution_count": 13,
     "metadata": {},
     "output_type": "execute_result"
    }
   ],
   "source": [
    "XT.shape, Xt.shape"
   ]
  },
  {
   "cell_type": "code",
   "execution_count": null,
   "id": "300a1992",
   "metadata": {},
   "outputs": [],
   "source": []
  },
  {
   "cell_type": "code",
   "execution_count": 15,
   "id": "23269201",
   "metadata": {},
   "outputs": [
    {
     "name": "stdout",
     "output_type": "stream",
     "text": [
      "Model: \"sequential_2\"\n",
      "_________________________________________________________________\n",
      "Layer (type)                 Output Shape              Param #   \n",
      "=================================================================\n",
      "conv2d_8 (Conv2D)            (None, 26, 26, 32)        320       \n",
      "_________________________________________________________________\n",
      "conv2d_9 (Conv2D)            (None, 24, 24, 64)        18496     \n",
      "_________________________________________________________________\n",
      "dropout_2 (Dropout)          (None, 24, 24, 64)        0         \n",
      "_________________________________________________________________\n",
      "max_pooling2d_2 (MaxPooling2 (None, 12, 12, 64)        0         \n",
      "_________________________________________________________________\n",
      "conv2d_10 (Conv2D)           (None, 8, 8, 32)          51232     \n",
      "_________________________________________________________________\n",
      "conv2d_11 (Conv2D)           (None, 4, 4, 8)           6408      \n",
      "_________________________________________________________________\n",
      "flatten_2 (Flatten)          (None, 128)               0         \n",
      "_________________________________________________________________\n",
      "dense_2 (Dense)              (None, 10)                1290      \n",
      "=================================================================\n",
      "Total params: 77,746\n",
      "Trainable params: 77,746\n",
      "Non-trainable params: 0\n",
      "_________________________________________________________________\n"
     ]
    }
   ],
   "source": [
    "#train our model\n",
    "model = tf.keras.Sequential([\n",
    "    tf.keras.layers.Convolution2D(32,(3,3),activation = 'relu',input_shape = (28,28,1)),\n",
    "    tf.keras.layers.Convolution2D(64,(3,3),activation = 'relu'),\n",
    "    tf.keras.layers.Dropout(0.25),\n",
    "    tf.keras.layers.MaxPooling2D(2,2),\n",
    "    tf.keras.layers.Convolution2D(32,(5,5), activation = 'relu'),\n",
    "    tf.keras.layers.Convolution2D(8,(5,5), activation = 'relu'),\n",
    "    tf.keras.layers.Flatten(),\n",
    "    tf.keras.layers.Dense(10,activation = 'softmax'),\n",
    "])\n",
    "model.summary()"
   ]
  },
  {
   "cell_type": "code",
   "execution_count": 17,
   "id": "0aad38a8",
   "metadata": {},
   "outputs": [],
   "source": [
    "model.compile(optimizer = 'adam',loss = 'categorical_crossentropy',metrics =['accuracy'])"
   ]
  },
  {
   "cell_type": "code",
   "execution_count": 18,
   "id": "cbc4244e",
   "metadata": {},
   "outputs": [
    {
     "name": "stdout",
     "output_type": "stream",
     "text": [
      "Epoch 1/10\n",
      "188/188 [==============================] - 94s 502ms/step - loss: 2.3553 - accuracy: 0.2681 - val_loss: 1.6151 - val_accuracy: 0.4122\n",
      "Epoch 2/10\n",
      "188/188 [==============================] - 129s 688ms/step - loss: 1.4944 - accuracy: 0.4440 - val_loss: 1.4245 - val_accuracy: 0.4487\n",
      "Epoch 3/10\n",
      "188/188 [==============================] - 111s 592ms/step - loss: 1.1853 - accuracy: 0.5709 - val_loss: 0.8246 - val_accuracy: 0.7464\n",
      "Epoch 4/10\n",
      "188/188 [==============================] - 109s 581ms/step - loss: 0.6598 - accuracy: 0.7763 - val_loss: 0.5698 - val_accuracy: 0.8043\n",
      "Epoch 5/10\n",
      "188/188 [==============================] - 110s 583ms/step - loss: 0.5249 - accuracy: 0.8174 - val_loss: 0.5002 - val_accuracy: 0.8280\n",
      "Epoch 6/10\n",
      "188/188 [==============================] - 111s 592ms/step - loss: 0.4677 - accuracy: 0.8360 - val_loss: 0.4799 - val_accuracy: 0.8363\n",
      "Epoch 7/10\n",
      "188/188 [==============================] - 114s 604ms/step - loss: 0.4270 - accuracy: 0.8504 - val_loss: 0.4421 - val_accuracy: 0.8447\n",
      "Epoch 8/10\n",
      "188/188 [==============================] - 111s 589ms/step - loss: 0.4098 - accuracy: 0.8572 - val_loss: 0.4207 - val_accuracy: 0.8522\n",
      "Epoch 9/10\n",
      "188/188 [==============================] - 111s 592ms/step - loss: 0.3791 - accuracy: 0.8678 - val_loss: 0.3993 - val_accuracy: 0.8618\n",
      "Epoch 10/10\n",
      "188/188 [==============================] - 118s 628ms/step - loss: 0.3644 - accuracy: 0.8727 - val_loss: 0.3872 - val_accuracy: 0.8648\n"
     ]
    }
   ],
   "source": [
    "hist = model.fit(XT,YT,epochs = 10,batch_size = 256,validation_split = 0.20)"
   ]
  },
  {
   "cell_type": "code",
   "execution_count": 19,
   "id": "8324dd31",
   "metadata": {},
   "outputs": [
    {
     "data": {
      "text/plain": [
       "{'loss': [2.355271577835083,\n",
       "  1.494402289390564,\n",
       "  1.1853210926055908,\n",
       "  0.6597756147384644,\n",
       "  0.5249060988426208,\n",
       "  0.46773192286491394,\n",
       "  0.4269919693470001,\n",
       "  0.4098083972930908,\n",
       "  0.3791399598121643,\n",
       "  0.36441466212272644],\n",
       " 'accuracy': [0.2680833339691162,\n",
       "  0.4440000057220459,\n",
       "  0.5708958506584167,\n",
       "  0.7762708067893982,\n",
       "  0.817395806312561,\n",
       "  0.8360000252723694,\n",
       "  0.8503749966621399,\n",
       "  0.8571875095367432,\n",
       "  0.8678125143051147,\n",
       "  0.8727291822433472],\n",
       " 'val_loss': [1.615056037902832,\n",
       "  1.4245394468307495,\n",
       "  0.8246036171913147,\n",
       "  0.5698108077049255,\n",
       "  0.5002488493919373,\n",
       "  0.47988155484199524,\n",
       "  0.4421064555644989,\n",
       "  0.4207414984703064,\n",
       "  0.39926236867904663,\n",
       "  0.3871859014034271],\n",
       " 'val_accuracy': [0.41216665506362915,\n",
       "  0.44874998927116394,\n",
       "  0.7464166879653931,\n",
       "  0.8043333292007446,\n",
       "  0.828000009059906,\n",
       "  0.8362500071525574,\n",
       "  0.8446666598320007,\n",
       "  0.8521666526794434,\n",
       "  0.8617500066757202,\n",
       "  0.8647500276565552]}"
      ]
     },
     "execution_count": 19,
     "metadata": {},
     "output_type": "execute_result"
    }
   ],
   "source": [
    "hist.history"
   ]
  },
  {
   "cell_type": "code",
   "execution_count": 20,
   "id": "20e2bc9c",
   "metadata": {},
   "outputs": [],
   "source": [
    "import matplotlib.pyplot as plt"
   ]
  },
  {
   "cell_type": "code",
   "execution_count": 22,
   "id": "986645c8",
   "metadata": {},
   "outputs": [
    {
     "data": {
      "image/png": "[encoded data removed]",
      "text/plain": [
       "<Figure size 432x288 with 1 Axes>"
      ]
     },
     "metadata": {
      "needs_background": "light"
     },
     "output_type": "display_data"
    }
   ],
   "source": [
    "plt.plot(hist.history['loss'],label = 'loss')\n",
    "plt.plot(hist.history['val_loss'], label = 'val_loss')\n",
    "plt.legend()\n",
    "plt.show()"
   ]
  },
  {
   "cell_type": "code",
   "execution_count": 24,
   "id": "734f4289",
   "metadata": {},
   "outputs": [
    {
     "data": {
      "image/png": "[encoded data removed]",
      "text/plain": [
       "<Figure size 432x288 with 1 Axes>"
      ]
     },
     "metadata": {
      "needs_background": "light"
     },
     "output_type": "display_data"
    }
   ],
   "source": [
    "plt.plot(hist.history['accuracy'],label = 'accuracy' , color = 'r')\n",
    "plt.plot(hist.history['val_accuracy'], label = 'val_accuracy',color = 'b')\n",
    "plt.legend()\n",
    "plt.show()"
   ]
  },
  {
   "cell_type": "code",
   "execution_count": 25,
   "id": "3c07dcfe",
   "metadata": {},
   "outputs": [
    {
     "name": "stdout",
     "output_type": "stream",
     "text": [
      "313/313 [==============================] - 8s 24ms/step - loss: 0.4021 - accuracy: 0.8605\n"
     ]
    }
   ],
   "source": [
    "test_loss,test_accuracy = model.evaluate(Xt,Yt)"
   ]
  },
  {
   "cell_type": "code",
   "execution_count": 26,
   "id": "3bea7f82",
   "metadata": {},
   "outputs": [],
   "source": [
    "answers = {\n",
    "    0: 'T-shirt/top',\n",
    "    1: 'Trouser',\n",
    "    2: 'Pullover',\n",
    "    3: 'Dress',\n",
    "    4: 'Coat',\n",
    "    5: 'Sandal',\n",
    "    6: 'Shirt',\n",
    "    7: 'Sneaker',\n",
    "    8: 'Bag',\n",
    "    9: 'Ankle boot'\n",
    "}"
   ]
  },
  {
   "cell_type": "code",
   "execution_count": 50,
   "id": "396cd3f9",
   "metadata": {},
   "outputs": [],
   "source": [
    "# #testing for a single image\n",
    "test_img = Xt[107].reshape(1,28,28,1)\n",
    "predictions = model.predict(test_img)"
   ]
  },
  {
   "cell_type": "code",
   "execution_count": 51,
   "id": "63be56a7",
   "metadata": {},
   "outputs": [
    {
     "name": "stdout",
     "output_type": "stream",
     "text": [
      "9\n"
     ]
    }
   ],
   "source": [
    "import numpy as np\n",
    "predictions = np.argmax(predictions)\n",
    "print (predictions)"
   ]
  },
  {
   "cell_type": "code",
   "execution_count": 52,
   "id": "6cb8c7d0",
   "metadata": {},
   "outputs": [
    {
     "data": {
      "image/png": "[encoded data removed]",
      "text/plain": [
       "<Figure size 432x288 with 1 Axes>"
      ]
     },
     "metadata": {
      "needs_background": "light"
     },
     "output_type": "display_data"
    }
   ],
   "source": [
    "plt.imshow(Xt[107])\n",
    "plt.xlabel(answers[np.argmax(Yt[107])])\n",
    "plt.ylabel(answers[predictions])\n",
    "plt.show()\n"
   ]
  },
  {
   "cell_type": "code",
   "execution_count": null,
   "id": "3a6a7a4f",
   "metadata": {},
   "outputs": [],
   "source": []
  }
 ],
 "metadata": {
  "kernelspec": {
   "display_name": "Python 3",
   "language": "python",
   "name": "python3"
  },
  "language_info": {
   "codemirror_mode": {
    "name": "ipython",
    "version": 3
   },
   "file_extension": ".py",
   "mimetype": "text/x-python",
   "name": "python",
   "nbconvert_exporter": "python",
   "pygments_lexer": "ipython3",
   "version": "3.8.8"
  }
 },
 "nbformat": 4,
 "nbformat_minor": 5
}
