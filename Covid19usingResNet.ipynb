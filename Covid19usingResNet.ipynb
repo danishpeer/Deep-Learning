{
  "nbformat": 4,
  "nbformat_minor": 0,
  "metadata": {
    "colab": {
      "name": "Covid19usingResNet.ipynb",
      "provenance": [],
      "mount_file_id": "1yCIbKjRQvjKvf6TfsuIyHh8ixWkDp92z",
      "authorship_tag": "ABX9TyOgG9a3sPJcp1Fqiqae6Dtd",
      "include_colab_link": true
    },
    "kernelspec": {
      "name": "python3",
      "display_name": "Python 3"
    },
    "language_info": {
      "name": "python"
    }
  },
  "cells": [
    {
      "cell_type": "markdown",
      "metadata": {
        "id": "view-in-github",
        "colab_type": "text"
      },
      "source": [
        "<a href=\"https://colab.research.google.com/github/danishpeer/Deep-Learning/blob/main/Covid19usingResNet.ipynb\" target=\"_parent\"><img src=\"https://colab.research.google.com/assets/colab-badge.svg\" alt=\"Open In Colab\"/></a>"
      ]
    },
    {
      "cell_type": "code",
      "metadata": {
        "id": "fqgESj89Sg6Y"
      },
      "source": [
        "from tensorflow import keras\n",
        "from keras.preprocessing import image\n",
        "from keras.layers import *"
      ],
      "execution_count": null,
      "outputs": []
    },
    {
      "cell_type": "code",
      "metadata": {
        "id": "nz-y66w0Szdo"
      },
      "source": [
        "import numpy as np\n",
        "import matplotlib.pyplot as plt"
      ],
      "execution_count": null,
      "outputs": []
    },
    {
      "cell_type": "code",
      "metadata": {
        "id": "m85DPFwlS65E"
      },
      "source": [
        "# !unzip /content/drive/MyDrive/Data.zip"
      ],
      "execution_count": null,
      "outputs": []
    },
    {
      "cell_type": "code",
      "metadata": {
        "id": "C4rDka5uTDoN"
      },
      "source": [
        "from keras.preprocessing.image import ImageDataGenerator"
      ],
      "execution_count": null,
      "outputs": []
    },
    {
      "cell_type": "code",
      "metadata": {
        "id": "nH7pvMxDTbrJ"
      },
      "source": [
        "image_gen = ImageDataGenerator(rescale=1/255.0,zoom_range=0.2,shear_range=0.2,horizontal_flip=True,validation_split=0.2)"
      ],
      "execution_count": null,
      "outputs": []
    },
    {
      "cell_type": "code",
      "metadata": {
        "id": "-myaYECaTsyU"
      },
      "source": [
        "test_gen = ImageDataGenerator(rescale=1/255.0)"
      ],
      "execution_count": null,
      "outputs": []
    },
    {
      "cell_type": "code",
      "metadata": {
        "colab": {
          "base_uri": "https://localhost:8080/"
        },
        "id": "CxiNVVymTywI",
        "outputId": "0eb2d946-395e-4d9e-ae9a-fa8b82de38e8"
      },
      "source": [
        "image_generator = image_gen.flow_from_directory(\n",
        "    '/content/Data/test',\n",
        "    target_size = (224,224),\n",
        "    class_mode = 'categorical',\n",
        "    shuffle = True,\n",
        "    batch_size = 32,\n",
        "    subset = 'training'\n",
        ")\n",
        "val_generator = image_gen.flow_from_directory(\n",
        "    '/content/Data/test',\n",
        "    target_size = (224,224),\n",
        "    class_mode = 'categorical',\n",
        "    shuffle = True,\n",
        "    batch_size = 32,\n",
        "    subset = 'validation'\n",
        ")"
      ],
      "execution_count": null,
      "outputs": [
        {
          "output_type": "stream",
          "name": "stdout",
          "text": [
            "Found 347 images belonging to 2 classes.\n",
            "Found 86 images belonging to 2 classes.\n"
          ]
        }
      ]
    },
    {
      "cell_type": "code",
      "metadata": {
        "id": "6Pza6aLTUfWJ"
      },
      "source": [
        "from tensorflow.keras.applications.resnet50 import ResNet50"
      ],
      "execution_count": null,
      "outputs": []
    },
    {
      "cell_type": "code",
      "metadata": {
        "id": "xmLOHMswUyfA"
      },
      "source": [
        "model = ResNet50(include_top = False,weights = 'imagenet',input_shape=(224,224,3))"
      ],
      "execution_count": null,
      "outputs": []
    },
    {
      "cell_type": "code",
      "metadata": {
        "id": "I69jgOT_U_1P"
      },
      "source": [
        "model.summary()"
      ],
      "execution_count": null,
      "outputs": []
    },
    {
      "cell_type": "code",
      "metadata": {
        "id": "4D0Q54yLVDGu"
      },
      "source": [
        "gap1 = GlobalAveragePooling2D()(model.output)\n",
        "fc1 = Dense(256,activation='relu')(gap1)\n",
        "dp1 = Dropout(0.5)(fc1)\n",
        "fc2 = Dense(2,activation='softmax')(dp1)"
      ],
      "execution_count": null,
      "outputs": []
    },
    {
      "cell_type": "code",
      "metadata": {
        "id": "dXDj5jrTVq4s"
      },
      "source": [
        "from keras.models import Model"
      ],
      "execution_count": null,
      "outputs": []
    },
    {
      "cell_type": "code",
      "metadata": {
        "id": "4NECf9EqVuKT"
      },
      "source": [
        "newModel = Model(inputs = model.input,outputs = fc2)"
      ],
      "execution_count": null,
      "outputs": []
    },
    {
      "cell_type": "code",
      "metadata": {
        "id": "-3qPhOe5V2Fk"
      },
      "source": [
        "newModel.summary()"
      ],
      "execution_count": null,
      "outputs": []
    },
    {
      "cell_type": "code",
      "metadata": {
        "id": "sYXrOcTbV310"
      },
      "source": [
        "for ix in range(len(newModel.layers)):\n",
        "  print(ix,newModel.layers[ix])"
      ],
      "execution_count": null,
      "outputs": []
    },
    {
      "cell_type": "code",
      "metadata": {
        "id": "p9m-rN4XWIi8"
      },
      "source": [
        "for i in range(170):\n",
        "  newModel.layers[i].trainable = False"
      ],
      "execution_count": null,
      "outputs": []
    },
    {
      "cell_type": "code",
      "metadata": {
        "id": "vjdQ_WqsWYDK"
      },
      "source": [
        "newModel.summary()"
      ],
      "execution_count": null,
      "outputs": []
    },
    {
      "cell_type": "code",
      "metadata": {
        "id": "vREZyTWyWaUR"
      },
      "source": [
        "newModel.compile(optimizer=keras.optimizers.Adam(learning_rate=0.00003),loss = 'binary_crossentropy',metrics = ['accuracy'])"
      ],
      "execution_count": null,
      "outputs": []
    },
    {
      "cell_type": "code",
      "metadata": {
        "colab": {
          "base_uri": "https://localhost:8080/"
        },
        "id": "pWUN-HJSXOfb",
        "outputId": "a8b20b79-49b7-4d0c-e614-91d4e8b9a9cd"
      },
      "source": [
        "his = newModel.fit_generator(image_generator,epochs = 50,validation_data=val_generator,steps_per_epoch = 10,validation_steps=2)"
      ],
      "execution_count": null,
      "outputs": [
        {
          "output_type": "stream",
          "name": "stderr",
          "text": [
            "/usr/local/lib/python3.7/dist-packages/keras/engine/training.py:1972: UserWarning: `Model.fit_generator` is deprecated and will be removed in a future version. Please use `Model.fit`, which supports generators.\n",
            "  warnings.warn('`Model.fit_generator` is deprecated and '\n"
          ]
        },
        {
          "output_type": "stream",
          "name": "stdout",
          "text": [
            "Epoch 1/50\n",
            "10/10 [==============================] - 58s 6s/step - loss: 0.7259 - accuracy: 0.5556 - val_loss: 0.6675 - val_accuracy: 0.7188\n",
            "Epoch 2/50\n",
            "10/10 [==============================] - 54s 5s/step - loss: 0.5811 - accuracy: 0.7365 - val_loss: 0.6176 - val_accuracy: 0.7188\n",
            "Epoch 3/50\n",
            "10/10 [==============================] - 53s 5s/step - loss: 0.5928 - accuracy: 0.7206 - val_loss: 0.5987 - val_accuracy: 0.7500\n",
            "Epoch 4/50\n",
            "10/10 [==============================] - 54s 5s/step - loss: 0.5208 - accuracy: 0.7500 - val_loss: 0.5981 - val_accuracy: 0.7344\n",
            "Epoch 5/50\n",
            "10/10 [==============================] - 53s 5s/step - loss: 0.5304 - accuracy: 0.7429 - val_loss: 0.6045 - val_accuracy: 0.7188\n",
            "Epoch 6/50\n",
            "10/10 [==============================] - 54s 5s/step - loss: 0.4950 - accuracy: 0.7556 - val_loss: 0.5905 - val_accuracy: 0.7500\n",
            "Epoch 7/50\n",
            "10/10 [==============================] - 53s 5s/step - loss: 0.4459 - accuracy: 0.7937 - val_loss: 0.5713 - val_accuracy: 0.7656\n",
            "Epoch 8/50\n",
            "10/10 [==============================] - 53s 5s/step - loss: 0.4512 - accuracy: 0.7619 - val_loss: 0.5700 - val_accuracy: 0.7500\n",
            "Epoch 9/50\n",
            "10/10 [==============================] - 54s 5s/step - loss: 0.4294 - accuracy: 0.7714 - val_loss: 0.5772 - val_accuracy: 0.7344\n",
            "Epoch 10/50\n",
            "10/10 [==============================] - 54s 5s/step - loss: 0.4005 - accuracy: 0.8438 - val_loss: 0.5894 - val_accuracy: 0.7031\n",
            "Epoch 11/50\n",
            "10/10 [==============================] - 53s 5s/step - loss: 0.3901 - accuracy: 0.8349 - val_loss: 0.5557 - val_accuracy: 0.7500\n",
            "Epoch 12/50\n",
            "10/10 [==============================] - 53s 5s/step - loss: 0.3604 - accuracy: 0.8571 - val_loss: 0.5534 - val_accuracy: 0.7656\n",
            "Epoch 13/50\n",
            "10/10 [==============================] - 53s 5s/step - loss: 0.3587 - accuracy: 0.8825 - val_loss: 0.5503 - val_accuracy: 0.7500\n",
            "Epoch 14/50\n",
            "10/10 [==============================] - 53s 5s/step - loss: 0.3220 - accuracy: 0.8984 - val_loss: 0.5495 - val_accuracy: 0.7344\n",
            "Epoch 15/50\n",
            "10/10 [==============================] - 53s 5s/step - loss: 0.3112 - accuracy: 0.8952 - val_loss: 0.5568 - val_accuracy: 0.7031\n",
            "Epoch 16/50\n",
            "10/10 [==============================] - 53s 5s/step - loss: 0.2904 - accuracy: 0.8984 - val_loss: 0.5645 - val_accuracy: 0.6875\n",
            "Epoch 17/50\n",
            "10/10 [==============================] - 53s 5s/step - loss: 0.2859 - accuracy: 0.9250 - val_loss: 0.5051 - val_accuracy: 0.7812\n",
            "Epoch 18/50\n",
            "10/10 [==============================] - 53s 5s/step - loss: 0.2843 - accuracy: 0.8889 - val_loss: 0.5028 - val_accuracy: 0.7500\n",
            "Epoch 19/50\n",
            "10/10 [==============================] - 54s 5s/step - loss: 0.2845 - accuracy: 0.9000 - val_loss: 0.4973 - val_accuracy: 0.7656\n",
            "Epoch 20/50\n",
            "10/10 [==============================] - 54s 5s/step - loss: 0.2816 - accuracy: 0.9048 - val_loss: 0.5039 - val_accuracy: 0.7188\n",
            "Epoch 21/50\n",
            "10/10 [==============================] - 53s 5s/step - loss: 0.2493 - accuracy: 0.9079 - val_loss: 0.4873 - val_accuracy: 0.7500\n",
            "Epoch 22/50\n",
            "10/10 [==============================] - 53s 5s/step - loss: 0.2306 - accuracy: 0.9429 - val_loss: 0.4814 - val_accuracy: 0.7344\n",
            "Epoch 23/50\n",
            "10/10 [==============================] - 54s 5s/step - loss: 0.2422 - accuracy: 0.9187 - val_loss: 0.4725 - val_accuracy: 0.7031\n",
            "Epoch 24/50\n",
            "10/10 [==============================] - 53s 5s/step - loss: 0.2698 - accuracy: 0.8921 - val_loss: 0.4742 - val_accuracy: 0.7188\n",
            "Epoch 25/50\n",
            "10/10 [==============================] - 53s 5s/step - loss: 0.2147 - accuracy: 0.9302 - val_loss: 0.4303 - val_accuracy: 0.7656\n",
            "Epoch 26/50\n",
            "10/10 [==============================] - 53s 5s/step - loss: 0.2285 - accuracy: 0.9206 - val_loss: 0.5008 - val_accuracy: 0.6719\n",
            "Epoch 27/50\n",
            "10/10 [==============================] - 54s 5s/step - loss: 0.1910 - accuracy: 0.9344 - val_loss: 0.4650 - val_accuracy: 0.6875\n",
            "Epoch 28/50\n",
            "10/10 [==============================] - 53s 5s/step - loss: 0.1949 - accuracy: 0.9397 - val_loss: 0.4130 - val_accuracy: 0.7188\n",
            "Epoch 29/50\n",
            "10/10 [==============================] - 53s 5s/step - loss: 0.2052 - accuracy: 0.9333 - val_loss: 0.3734 - val_accuracy: 0.7656\n",
            "Epoch 30/50\n",
            "10/10 [==============================] - 53s 5s/step - loss: 0.1870 - accuracy: 0.9333 - val_loss: 0.4300 - val_accuracy: 0.7188\n",
            "Epoch 31/50\n",
            "10/10 [==============================] - 53s 5s/step - loss: 0.1671 - accuracy: 0.9524 - val_loss: 0.3891 - val_accuracy: 0.8125\n",
            "Epoch 32/50\n",
            "10/10 [==============================] - 53s 5s/step - loss: 0.1907 - accuracy: 0.9460 - val_loss: 0.3682 - val_accuracy: 0.7969\n",
            "Epoch 33/50\n",
            "10/10 [==============================] - 53s 5s/step - loss: 0.1824 - accuracy: 0.9492 - val_loss: 0.3179 - val_accuracy: 0.8750\n",
            "Epoch 34/50\n",
            "10/10 [==============================] - 53s 5s/step - loss: 0.1703 - accuracy: 0.9492 - val_loss: 0.3544 - val_accuracy: 0.8281\n",
            "Epoch 35/50\n",
            "10/10 [==============================] - 53s 5s/step - loss: 0.1917 - accuracy: 0.9333 - val_loss: 0.2661 - val_accuracy: 0.9062\n",
            "Epoch 36/50\n",
            "10/10 [==============================] - 53s 5s/step - loss: 0.1834 - accuracy: 0.9302 - val_loss: 0.3938 - val_accuracy: 0.8125\n",
            "Epoch 37/50\n",
            "10/10 [==============================] - 53s 5s/step - loss: 0.1975 - accuracy: 0.9302 - val_loss: 0.2795 - val_accuracy: 0.9219\n",
            "Epoch 38/50\n",
            "10/10 [==============================] - 53s 5s/step - loss: 0.1626 - accuracy: 0.9556 - val_loss: 0.3119 - val_accuracy: 0.8594\n",
            "Epoch 39/50\n",
            "10/10 [==============================] - 53s 5s/step - loss: 0.1590 - accuracy: 0.9429 - val_loss: 0.3328 - val_accuracy: 0.8281\n",
            "Epoch 40/50\n",
            "10/10 [==============================] - 52s 5s/step - loss: 0.1746 - accuracy: 0.9333 - val_loss: 0.2838 - val_accuracy: 0.8438\n",
            "Epoch 41/50\n",
            "10/10 [==============================] - 53s 5s/step - loss: 0.1826 - accuracy: 0.9365 - val_loss: 0.2597 - val_accuracy: 0.8594\n",
            "Epoch 42/50\n",
            "10/10 [==============================] - 53s 5s/step - loss: 0.1720 - accuracy: 0.9406 - val_loss: 0.3339 - val_accuracy: 0.8281\n",
            "Epoch 43/50\n",
            "10/10 [==============================] - 53s 5s/step - loss: 0.1579 - accuracy: 0.9397 - val_loss: 0.2808 - val_accuracy: 0.8906\n",
            "Epoch 44/50\n",
            "10/10 [==============================] - 53s 5s/step - loss: 0.1564 - accuracy: 0.9397 - val_loss: 0.2950 - val_accuracy: 0.8438\n",
            "Epoch 45/50\n",
            "10/10 [==============================] - 52s 5s/step - loss: 0.1796 - accuracy: 0.9238 - val_loss: 0.2269 - val_accuracy: 0.8750\n",
            "Epoch 46/50\n",
            "10/10 [==============================] - 52s 5s/step - loss: 0.1501 - accuracy: 0.9492 - val_loss: 0.2779 - val_accuracy: 0.8750\n",
            "Epoch 47/50\n",
            "10/10 [==============================] - 52s 5s/step - loss: 0.1363 - accuracy: 0.9460 - val_loss: 0.2382 - val_accuracy: 0.8906\n",
            "Epoch 48/50\n",
            "10/10 [==============================] - 52s 5s/step - loss: 0.1404 - accuracy: 0.9524 - val_loss: 0.1837 - val_accuracy: 0.9375\n",
            "Epoch 49/50\n",
            "10/10 [==============================] - 52s 5s/step - loss: 0.1494 - accuracy: 0.9460 - val_loss: 0.2961 - val_accuracy: 0.8906\n",
            "Epoch 50/50\n",
            "10/10 [==============================] - 53s 5s/step - loss: 0.1570 - accuracy: 0.9492 - val_loss: 0.1867 - val_accuracy: 0.9375\n"
          ]
        }
      ]
    },
    {
      "cell_type": "code",
      "metadata": {
        "colab": {
          "base_uri": "https://localhost:8080/",
          "height": 265
        },
        "id": "VrP6Avf5XlUn",
        "outputId": "99c54154-d640-48d4-9a21-c4a44f21a27c"
      },
      "source": [
        "plt.plot(his.history['accuracy'],label='accuracy')\n",
        "plt.plot(his.history['val_accuracy'],label='val_accuracy')\n",
        "plt.legend()\n",
        "plt.show()"
      ],
      "execution_count": null,
      "outputs": [
        {
          "output_type": "display_data",
          "data": {
            "image/png": "[encoded data removed]",
            "text/plain": [
              "<Figure size 432x288 with 1 Axes>"
            ]
          },
          "metadata": {
            "needs_background": "light"
          }
        }
      ]
    },
    {
      "cell_type": "code",
      "metadata": {
        "colab": {
          "base_uri": "https://localhost:8080/"
        },
        "id": "OdUfWLnInyZV",
        "outputId": "721846e9-5d73-434a-e7d6-695653a1f7b2"
      },
      "source": [
        "test_generator = test_gen.flow_from_directory(\n",
        "  '/content/Data/test',\n",
        "  target_size = (224,224)  \n",
        ")"
      ],
      "execution_count": null,
      "outputs": [
        {
          "output_type": "stream",
          "name": "stdout",
          "text": [
            "Found 433 images belonging to 2 classes.\n"
          ]
        }
      ]
    },
    {
      "cell_type": "code",
      "metadata": {
        "colab": {
          "base_uri": "https://localhost:8080/"
        },
        "id": "DFphcShwovoH",
        "outputId": "e2119218-bce0-47a3-a6fe-e4ee147b951b"
      },
      "source": [
        "newModel.evaluate(test_generator)"
      ],
      "execution_count": null,
      "outputs": [
        {
          "output_type": "stream",
          "name": "stdout",
          "text": [
            "14/14 [==============================] - 55s 4s/step - loss: 0.1470 - accuracy: 0.9538\n"
          ]
        },
        {
          "output_type": "execute_result",
          "data": {
            "text/plain": [
              "[0.14700847864151, 0.9538106322288513]"
            ]
          },
          "metadata": {},
          "execution_count": 52
        }
      ]
    },
    {
      "cell_type": "code",
      "metadata": {
        "id": "Cwvll1Lho_Dt"
      },
      "source": [
        ""
      ],
      "execution_count": null,
      "outputs": []
    }
  ]
}