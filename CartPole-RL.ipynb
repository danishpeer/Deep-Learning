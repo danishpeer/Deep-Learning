{
 "cells": [
  {
   "cell_type": "markdown",
   "id": "5b0aee47",
   "metadata": {},
   "source": [
    "## Mark down cell"
   ]
  },
  {
   "cell_type": "code",
   "execution_count": 19,
   "id": "b9db3584",
   "metadata": {},
   "outputs": [],
   "source": [
    "import gym"
   ]
  },
  {
   "cell_type": "code",
   "execution_count": 20,
   "id": "9f043cea",
   "metadata": {},
   "outputs": [],
   "source": [
    "env = gym.make('CartPole-v0')"
   ]
  },
  {
   "cell_type": "code",
   "execution_count": null,
   "id": "c9ed55f3",
   "metadata": {},
   "outputs": [],
   "source": []
  },
  {
   "cell_type": "code",
   "execution_count": 31,
   "id": "dfc6b5b0",
   "metadata": {},
   "outputs": [
    {
     "name": "stdout",
     "output_type": "stream",
     "text": [
      "Game Episode: 0/20 and High Score: 15\n",
      "Game Episode: 1/20 and High Score: 27\n",
      "Game Episode: 2/20 and High Score: 12\n",
      "Game Episode: 3/20 and High Score: 26\n",
      "Game Episode: 4/20 and High Score: 29\n",
      "Game Episode: 5/20 and High Score: 13\n",
      "Game Episode: 6/20 and High Score: 29\n",
      "Game Episode: 7/20 and High Score: 13\n",
      "Game Episode: 8/20 and High Score: 12\n",
      "Game Episode: 9/20 and High Score: 25\n",
      "Game Episode: 10/20 and High Score: 8\n",
      "Game Episode: 11/20 and High Score: 14\n",
      "Game Episode: 12/20 and High Score: 19\n",
      "Game Episode: 13/20 and High Score: 14\n",
      "Game Episode: 14/20 and High Score: 28\n",
      "Game Episode: 15/20 and High Score: 19\n",
      "Game Episode: 16/20 and High Score: 25\n",
      "Game Episode: 17/20 and High Score: 12\n",
      "Game Episode: 18/20 and High Score: 21\n",
      "Game Episode: 19/20 and High Score: 28\n"
     ]
    }
   ],
   "source": [
    "for e in range(20):\n",
    "    observation = env.reset()\n",
    "    sum = 0;\n",
    "    for t in range(50):\n",
    "        env.render()\n",
    "        observation,reward,done,other_info = env.step(env.action_space.sample())\n",
    "        if done:\n",
    "            print(\"Game Episode: {}/{} and High Score: {}\".format(e,20,t))\n",
    "            break\n",
    "env.close()"
   ]
  },
  {
   "cell_type": "code",
   "execution_count": null,
   "id": "fc365b4a",
   "metadata": {},
   "outputs": [],
   "source": []
  },
  {
   "cell_type": "code",
   "execution_count": null,
   "id": "4cadf449",
   "metadata": {},
   "outputs": [],
   "source": []
  }
 ],
 "metadata": {
  "interpreter": {
   "hash": "1e915f0a29dc84041eaeb02b7b1a21c440e37a87b61d44d5e84a515737dc82bc"
  },
  "kernelspec": {
   "display_name": "Python 3",
   "language": "python",
   "name": "python3"
  },
  "language_info": {
   "codemirror_mode": {
    "name": "ipython",
    "version": 3
   },
   "file_extension": ".py",
   "mimetype": "text/x-python",
   "name": "python",
   "nbconvert_exporter": "python",
   "pygments_lexer": "ipython3",
   "version": "3.8.8"
  }
 },
 "nbformat": 4,
 "nbformat_minor": 5
}
