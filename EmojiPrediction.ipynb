{
 "cells": [
  {
   "cell_type": "code",
   "execution_count": 29,
   "id": "b4f93bf0",
   "metadata": {},
   "outputs": [],
   "source": [
    "import emoji"
   ]
  },
  {
   "cell_type": "code",
   "execution_count": 30,
   "id": "6332cc17",
   "metadata": {},
   "outputs": [],
   "source": [
    "emoji_dict = {\n",
    "    \"0\":\"\\u2764\\uFE0F\",\n",
    "    \"1\":\":baseball:\",\n",
    "    \"2\":\":grinning_face_with_big_eyes:\",\n",
    "    \"3\":\":disappointed_face:\",\n",
    "    \"4\":\":fork_and_knife:\"\n",
    "}"
   ]
  },
  {
   "cell_type": "code",
   "execution_count": 31,
   "id": "0945106e",
   "metadata": {},
   "outputs": [
    {
     "name": "stdout",
     "output_type": "stream",
     "text": [
      "❤️\n",
      "⚾\n",
      "😃\n",
      "😞\n",
      "🍴\n"
     ]
    }
   ],
   "source": [
    "for w in emoji_dict.values():\n",
    "    print(emoji.emojize(w))"
   ]
  },
  {
   "cell_type": "code",
   "execution_count": 32,
   "id": "da451075",
   "metadata": {},
   "outputs": [],
   "source": [
    "import pandas as pd\n",
    "import numpy as np"
   ]
  },
  {
   "cell_type": "code",
   "execution_count": 33,
   "id": "731a3918",
   "metadata": {},
   "outputs": [],
   "source": [
    "train = pd.read_csv('emoji_dataset/train_emoji.csv',header = None)\n",
    "test = pd.read_csv('emoji_dataset/test_emoji.csv',header = None)"
   ]
  },
  {
   "cell_type": "code",
   "execution_count": 34,
   "id": "c8aca921",
   "metadata": {},
   "outputs": [],
   "source": [
    "X_train = train[0]\n",
    "Y_train = train[1]\n",
    "\n",
    "X_test = test[0]\n",
    "Y_test = test[1]"
   ]
  },
  {
   "cell_type": "code",
   "execution_count": 35,
   "id": "e27edc3d",
   "metadata": {},
   "outputs": [
    {
     "name": "stdout",
     "output_type": "stream",
     "text": [
      "never talk to me again 😞\n",
      "I am proud of your achievements 😃\n",
      "It is the worst day in my life 😞\n",
      "Miss you so much ❤️\n",
      "food is life 🍴\n"
     ]
    }
   ],
   "source": [
    "for i in range(5):\n",
    "    print(X_train[i],emoji.emojize(emoji_dict[str(Y_train[i])]))"
   ]
  },
  {
   "cell_type": "code",
   "execution_count": 36,
   "id": "516b9e35",
   "metadata": {},
   "outputs": [],
   "source": [
    "f = open('glove.6B.50d.txt',encoding = 'utf-8')\n",
    "embd_idx = {}\n",
    "for line in f:\n",
    "    values = line.split()\n",
    "    word = values[0]\n",
    "    coef = np.asarray(values[1:],dtype = 'float')\n",
    "    embd_idx[word] = coef\n",
    "f.close()"
   ]
  },
  {
   "cell_type": "code",
   "execution_count": null,
   "id": "3cc3b78b",
   "metadata": {},
   "outputs": [],
   "source": []
  },
  {
   "cell_type": "code",
   "execution_count": 37,
   "id": "f64f10eb",
   "metadata": {},
   "outputs": [
    {
     "data": {
      "text/plain": [
       "'never talk to me again'"
      ]
     },
     "execution_count": 37,
     "metadata": {},
     "output_type": "execute_result"
    }
   ],
   "source": [
    "X_train[0]"
   ]
  },
  {
   "cell_type": "code",
   "execution_count": 38,
   "id": "371fb72c",
   "metadata": {},
   "outputs": [],
   "source": [
    "def preprocess_data(X):\n",
    "    maxLen = 10\n",
    "    embd_dim = 50\n",
    "    out = np.zeros((X.shape[0],maxLen,embd_dim))\n",
    "    \n",
    "    for i in range(X.shape[0]):\n",
    "        W = X[i].split()\n",
    "        for j in range(len(W)):\n",
    "            try:\n",
    "                out[i][j] = embd_idx[W[j].lower()]\n",
    "            except:\n",
    "                out[i][j] = np.zeros((50,))\n",
    "            \n",
    "    return out"
   ]
  },
  {
   "cell_type": "code",
   "execution_count": 39,
   "id": "c25a447e",
   "metadata": {},
   "outputs": [],
   "source": [
    "XT = preprocess_data(X_train)"
   ]
  },
  {
   "cell_type": "code",
   "execution_count": 40,
   "id": "23d8ee7d",
   "metadata": {},
   "outputs": [
    {
     "name": "stdout",
     "output_type": "stream",
     "text": [
      "(132,) (132,) (56,) (56,)\n"
     ]
    }
   ],
   "source": [
    "print(X_train.shape,Y_train.shape,X_test.shape,Y_test.shape)"
   ]
  },
  {
   "cell_type": "code",
   "execution_count": 41,
   "id": "396f486b",
   "metadata": {},
   "outputs": [],
   "source": [
    "from keras.utils import to_categorical"
   ]
  },
  {
   "cell_type": "code",
   "execution_count": 42,
   "id": "ad047aa3",
   "metadata": {},
   "outputs": [],
   "source": [
    "YT = to_categorical(Y_train)\n",
    "Yt= to_categorical(Y_train)"
   ]
  },
  {
   "cell_type": "code",
   "execution_count": 43,
   "id": "d37d37c2",
   "metadata": {},
   "outputs": [
    {
     "data": {
      "text/plain": [
       "((132, 5), (132, 5))"
      ]
     },
     "execution_count": 43,
     "metadata": {},
     "output_type": "execute_result"
    }
   ],
   "source": [
    "YT.shape,Yt.shape"
   ]
  },
  {
   "cell_type": "code",
   "execution_count": 44,
   "id": "257cb465",
   "metadata": {},
   "outputs": [],
   "source": [
    "#create our model\n",
    "from keras.models import Sequential\n",
    "from keras.layers import *"
   ]
  },
  {
   "cell_type": "code",
   "execution_count": 49,
   "id": "47b2e1eb",
   "metadata": {},
   "outputs": [],
   "source": [
    "model = Sequential()\n",
    "model.add(LSTM(64))\n",
    "model.add(Dropout(0.5))\n",
    "model.add(Dense(5,activation = 'softmax'))"
   ]
  },
  {
   "cell_type": "code",
   "execution_count": 50,
   "id": "4b193d0d",
   "metadata": {},
   "outputs": [],
   "source": [
    "model.compile(optimizer = 'adam',loss = 'categorical_crossentropy',metrics = ['accuracy'])"
   ]
  },
  {
   "cell_type": "code",
   "execution_count": null,
   "id": "5e31cdad",
   "metadata": {},
   "outputs": [],
   "source": [
    "his = model.fit(XT,YT,epochs = 100,validation_split = 0.2)"
   ]
  },
  {
   "cell_type": "code",
   "execution_count": null,
   "id": "198dddab",
   "metadata": {},
   "outputs": [],
   "source": [
    "!pip install numpy"
   ]
  },
  {
   "cell_type": "code",
   "execution_count": null,
   "id": "212b9b3f",
   "metadata": {},
   "outputs": [],
   "source": [
    "!pip --version"
   ]
  },
  {
   "cell_type": "code",
   "execution_count": null,
   "id": "d79fd2a7",
   "metadata": {},
   "outputs": [],
   "source": []
  }
 ],
 "metadata": {
  "kernelspec": {
   "display_name": "Python 3",
   "language": "python",
   "name": "python3"
  },
  "language_info": {
   "codemirror_mode": {
    "name": "ipython",
    "version": 3
   },
   "file_extension": ".py",
   "mimetype": "text/x-python",
   "name": "python",
   "nbconvert_exporter": "python",
   "pygments_lexer": "ipython3",
   "version": "3.8.8"
  }
 },
 "nbformat": 4,
 "nbformat_minor": 5
}
