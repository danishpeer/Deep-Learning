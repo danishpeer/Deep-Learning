{
 "cells": [
  {
   "cell_type": "code",
   "execution_count": 1,
   "id": "f16bd569",
   "metadata": {},
   "outputs": [
    {
     "name": "stderr",
     "output_type": "stream",
     "text": [
      "C:\\Users\\HP\\anaconda3\\lib\\site-packages\\gensim\\similarities\\__init__.py:15: UserWarning: The gensim.similarities.levenshtein submodule is disabled, because the optional Levenshtein package <https://pypi.org/project/python-Levenshtein/> is unavailable. Install Levenhstein (e.g. `pip install python-Levenshtein`) to suppress this warning.\n",
      "  warnings.warn(msg)\n"
     ]
    }
   ],
   "source": [
    "import gensim\n",
    "from gensim.models import word2vec\n",
    "from gensim.models import KeyedVectors #object for mapping from words to vectors\n",
    "from sklearn.metrics.pairwise import cosine_similarity"
   ]
  },
  {
   "cell_type": "code",
   "execution_count": 2,
   "id": "4a1f9edd",
   "metadata": {},
   "outputs": [],
   "source": [
    "word_vect = KeyedVectors.load_word2vec_format('GoogleNews-vectors-negative300.bin',binary = True) #300 dim vector for a word"
   ]
  },
  {
   "cell_type": "code",
   "execution_count": 3,
   "id": "716c00ac",
   "metadata": {},
   "outputs": [
    {
     "ename": "KeyError",
     "evalue": "\"Key 'Raheeni' not present\"",
     "output_type": "error",
     "traceback": [
      "\u001b[1;31m---------------------------------------------------------------------------\u001b[0m",
      "\u001b[1;31mKeyError\u001b[0m                                  Traceback (most recent call last)",
      "\u001b[1;32m<ipython-input-3-3b6ccec3c426>\u001b[0m in \u001b[0;36m<module>\u001b[1;34m\u001b[0m\n\u001b[1;32m----> 1\u001b[1;33m \u001b[0mv_apple\u001b[0m \u001b[1;33m=\u001b[0m \u001b[0mword_vect\u001b[0m\u001b[1;33m[\u001b[0m\u001b[1;34m'Raheeni'\u001b[0m\u001b[1;33m]\u001b[0m\u001b[1;33m\u001b[0m\u001b[1;33m\u001b[0m\u001b[0m\n\u001b[0m\u001b[0;32m      2\u001b[0m \u001b[0mv_mango\u001b[0m \u001b[1;33m=\u001b[0m \u001b[0mword_vect\u001b[0m\u001b[1;33m[\u001b[0m\u001b[1;34m'Danish'\u001b[0m\u001b[1;33m]\u001b[0m\u001b[1;33m\u001b[0m\u001b[1;33m\u001b[0m\u001b[0m\n\u001b[0;32m      3\u001b[0m \u001b[0mprint\u001b[0m\u001b[1;33m(\u001b[0m\u001b[0mcosine_similarity\u001b[0m\u001b[1;33m(\u001b[0m\u001b[1;33m[\u001b[0m\u001b[0mv_apple\u001b[0m\u001b[1;33m]\u001b[0m\u001b[1;33m,\u001b[0m\u001b[1;33m[\u001b[0m\u001b[0mv_mango\u001b[0m\u001b[1;33m]\u001b[0m\u001b[1;33m)\u001b[0m\u001b[1;33m)\u001b[0m\u001b[1;33m\u001b[0m\u001b[1;33m\u001b[0m\u001b[0m\n",
      "\u001b[1;32m~\\anaconda3\\lib\\site-packages\\gensim\\models\\keyedvectors.py\u001b[0m in \u001b[0;36m__getitem__\u001b[1;34m(self, key_or_keys)\u001b[0m\n\u001b[0;32m    377\u001b[0m         \"\"\"\n\u001b[0;32m    378\u001b[0m         \u001b[1;32mif\u001b[0m \u001b[0misinstance\u001b[0m\u001b[1;33m(\u001b[0m\u001b[0mkey_or_keys\u001b[0m\u001b[1;33m,\u001b[0m \u001b[0mKEY_TYPES\u001b[0m\u001b[1;33m)\u001b[0m\u001b[1;33m:\u001b[0m\u001b[1;33m\u001b[0m\u001b[1;33m\u001b[0m\u001b[0m\n\u001b[1;32m--> 379\u001b[1;33m             \u001b[1;32mreturn\u001b[0m \u001b[0mself\u001b[0m\u001b[1;33m.\u001b[0m\u001b[0mget_vector\u001b[0m\u001b[1;33m(\u001b[0m\u001b[0mkey_or_keys\u001b[0m\u001b[1;33m)\u001b[0m\u001b[1;33m\u001b[0m\u001b[1;33m\u001b[0m\u001b[0m\n\u001b[0m\u001b[0;32m    380\u001b[0m \u001b[1;33m\u001b[0m\u001b[0m\n\u001b[0;32m    381\u001b[0m         \u001b[1;32mreturn\u001b[0m \u001b[0mvstack\u001b[0m\u001b[1;33m(\u001b[0m\u001b[1;33m[\u001b[0m\u001b[0mself\u001b[0m\u001b[1;33m.\u001b[0m\u001b[0mget_vector\u001b[0m\u001b[1;33m(\u001b[0m\u001b[0mkey\u001b[0m\u001b[1;33m)\u001b[0m \u001b[1;32mfor\u001b[0m \u001b[0mkey\u001b[0m \u001b[1;32min\u001b[0m \u001b[0mkey_or_keys\u001b[0m\u001b[1;33m]\u001b[0m\u001b[1;33m)\u001b[0m\u001b[1;33m\u001b[0m\u001b[1;33m\u001b[0m\u001b[0m\n",
      "\u001b[1;32m~\\anaconda3\\lib\\site-packages\\gensim\\models\\keyedvectors.py\u001b[0m in \u001b[0;36mget_vector\u001b[1;34m(self, key, norm)\u001b[0m\n\u001b[0;32m    420\u001b[0m \u001b[1;33m\u001b[0m\u001b[0m\n\u001b[0;32m    421\u001b[0m         \"\"\"\n\u001b[1;32m--> 422\u001b[1;33m         \u001b[0mindex\u001b[0m \u001b[1;33m=\u001b[0m \u001b[0mself\u001b[0m\u001b[1;33m.\u001b[0m\u001b[0mget_index\u001b[0m\u001b[1;33m(\u001b[0m\u001b[0mkey\u001b[0m\u001b[1;33m)\u001b[0m\u001b[1;33m\u001b[0m\u001b[1;33m\u001b[0m\u001b[0m\n\u001b[0m\u001b[0;32m    423\u001b[0m         \u001b[1;32mif\u001b[0m \u001b[0mnorm\u001b[0m\u001b[1;33m:\u001b[0m\u001b[1;33m\u001b[0m\u001b[1;33m\u001b[0m\u001b[0m\n\u001b[0;32m    424\u001b[0m             \u001b[0mself\u001b[0m\u001b[1;33m.\u001b[0m\u001b[0mfill_norms\u001b[0m\u001b[1;33m(\u001b[0m\u001b[1;33m)\u001b[0m\u001b[1;33m\u001b[0m\u001b[1;33m\u001b[0m\u001b[0m\n",
      "\u001b[1;32m~\\anaconda3\\lib\\site-packages\\gensim\\models\\keyedvectors.py\u001b[0m in \u001b[0;36mget_index\u001b[1;34m(self, key, default)\u001b[0m\n\u001b[0;32m    394\u001b[0m             \u001b[1;32mreturn\u001b[0m \u001b[0mdefault\u001b[0m\u001b[1;33m\u001b[0m\u001b[1;33m\u001b[0m\u001b[0m\n\u001b[0;32m    395\u001b[0m         \u001b[1;32melse\u001b[0m\u001b[1;33m:\u001b[0m\u001b[1;33m\u001b[0m\u001b[1;33m\u001b[0m\u001b[0m\n\u001b[1;32m--> 396\u001b[1;33m             \u001b[1;32mraise\u001b[0m \u001b[0mKeyError\u001b[0m\u001b[1;33m(\u001b[0m\u001b[1;34mf\"Key '{key}' not present\"\u001b[0m\u001b[1;33m)\u001b[0m\u001b[1;33m\u001b[0m\u001b[1;33m\u001b[0m\u001b[0m\n\u001b[0m\u001b[0;32m    397\u001b[0m \u001b[1;33m\u001b[0m\u001b[0m\n\u001b[0;32m    398\u001b[0m     \u001b[1;32mdef\u001b[0m \u001b[0mget_vector\u001b[0m\u001b[1;33m(\u001b[0m\u001b[0mself\u001b[0m\u001b[1;33m,\u001b[0m \u001b[0mkey\u001b[0m\u001b[1;33m,\u001b[0m \u001b[0mnorm\u001b[0m\u001b[1;33m=\u001b[0m\u001b[1;32mFalse\u001b[0m\u001b[1;33m)\u001b[0m\u001b[1;33m:\u001b[0m\u001b[1;33m\u001b[0m\u001b[1;33m\u001b[0m\u001b[0m\n",
      "\u001b[1;31mKeyError\u001b[0m: \"Key 'Raheeni' not present\""
     ]
    }
   ],
   "source": [
    "v_apple = word_vect['Raheeni']\n",
    "v_mango = word_vect['Danish']\n",
    "print(cosine_similarity([v_apple],[v_mango]))"
   ]
  },
  {
   "cell_type": "markdown",
   "id": "84129c7c",
   "metadata": {},
   "source": [
    "### ODD ONE OUT FROM A LIST\n"
   ]
  },
  {
   "cell_type": "code",
   "execution_count": 29,
   "id": "f2043f2f",
   "metadata": {},
   "outputs": [],
   "source": [
    "input_1 = ['apple','banana','pear','party']\n",
    "input_2 = ['india','pakistan','russia','delhi']\n",
    "input_3 = ['air','water','wind','fire','lamp']"
   ]
  },
  {
   "cell_type": "code",
   "execution_count": 20,
   "id": "d8cd71a2",
   "metadata": {},
   "outputs": [],
   "source": [
    "import numpy as np"
   ]
  },
  {
   "cell_type": "code",
   "execution_count": 26,
   "id": "1bdf2e0c",
   "metadata": {},
   "outputs": [],
   "source": [
    "def odd_one_out(words):\n",
    "    all_word_vector = [word_vect[x] for x in words]\n",
    "    avg_vector  = np.mean(all_word_vector,axis = 0)\n",
    "    \n",
    "    minSim = 1.0\n",
    "    ans = None\n",
    "    \n",
    "    for w in words:\n",
    "        sim = cosine_similarity([word_vect[w]],[avg_vector])\n",
    "        if(sim<minSim):\n",
    "            minSim = sim\n",
    "            ans = w\n",
    "            \n",
    "    return w\n",
    "    "
   ]
  },
  {
   "cell_type": "code",
   "execution_count": 30,
   "id": "97d7b514",
   "metadata": {},
   "outputs": [
    {
     "data": {
      "text/plain": [
       "'lamp'"
      ]
     },
     "execution_count": 30,
     "metadata": {},
     "output_type": "execute_result"
    }
   ],
   "source": [
    "odd_one_out(input_3)"
   ]
  },
  {
   "cell_type": "markdown",
   "id": "c446b173",
   "metadata": {},
   "source": [
    "### Finding Analogies\n",
    "**if man is to woman then prince is to what????**"
   ]
  },
  {
   "cell_type": "code",
   "execution_count": 43,
   "id": "aed32b8d",
   "metadata": {},
   "outputs": [
    {
     "data": {
      "text/plain": [
       "list"
      ]
     },
     "execution_count": 43,
     "metadata": {},
     "output_type": "execute_result"
    }
   ],
   "source": [
    "type(word_vect.index_to_key)"
   ]
  },
  {
   "cell_type": "code",
   "execution_count": 40,
   "id": "3ff1ba4f",
   "metadata": {},
   "outputs": [],
   "source": [
    "def word_analogy(a,b,c,word_vect):\n",
    "    \"\"\"if a is to b then c is to what\n",
    "        this problem can done using this technique: |b-a| = |d - c|  where d is the answer\n",
    "    \"\"\"\n",
    "    a,b,c = a.lower(),b.lower(),c.lower()\n",
    "    wa,wb,wc = word_vect[a],word_vect[b],word_vect[c]\n",
    "    max_sim = -1000\n",
    "    ans = None\n",
    "    for w in word_vect.index_to_key:\n",
    "        if w in [a,b,c]:\n",
    "            continue\n",
    "        wd = word_vect[w]\n",
    "        sim = cosine_similarity([wb-wa],[wd-wc])\n",
    "        if(sim>max_sim):\n",
    "            max_sim = sim\n",
    "            ans = w\n",
    "    return ans\n",
    "    "
   ]
  },
  {
   "cell_type": "code",
   "execution_count": 42,
   "id": "1e50860c",
   "metadata": {},
   "outputs": [
    {
     "data": {
      "text/plain": [
       "'woman'"
      ]
     },
     "execution_count": 42,
     "metadata": {},
     "output_type": "execute_result"
    }
   ],
   "source": [
    "traids = ('man','woman','king')\n",
    "word_analogy(*traids,word_vect)"
   ]
  },
  {
   "cell_type": "markdown",
   "id": "8b622653",
   "metadata": {},
   "source": [
    "### we can use most_similar() method of keyed vector objects"
   ]
  },
  {
   "cell_type": "code",
   "execution_count": 46,
   "id": "357c1fd6",
   "metadata": {},
   "outputs": [
    {
     "data": {
      "text/plain": [
       "[('coders', 0.5629674196243286)]"
      ]
     },
     "execution_count": 46,
     "metadata": {},
     "output_type": "execute_result"
    }
   ],
   "source": [
    "word_vect.most_similar(positive = ['coder','woman'],negative = ['man'],topn = 1)\n",
    "# here b-a = d-c => d = b-a+c(negatives are a and positives are b,c)"
   ]
  },
  {
   "cell_type": "code",
   "execution_count": null,
   "id": "b16cf6e4",
   "metadata": {},
   "outputs": [],
   "source": []
  }
 ],
 "metadata": {
  "kernelspec": {
   "display_name": "Python 3",
   "language": "python",
   "name": "python3"
  },
  "language_info": {
   "codemirror_mode": {
    "name": "ipython",
    "version": 3
   },
   "file_extension": ".py",
   "mimetype": "text/x-python",
   "name": "python",
   "nbconvert_exporter": "python",
   "pygments_lexer": "ipython3",
   "version": "3.8.8"
  }
 },
 "nbformat": 4,
 "nbformat_minor": 5
}
